{
 "cells": [
  {
   "cell_type": "code",
   "execution_count": 1,
   "metadata": {},
   "outputs": [],
   "source": [
    "import pandas as pd\n",
    "import os"
   ]
  },
  {
   "cell_type": "code",
   "execution_count": 7,
   "metadata": {},
   "outputs": [],
   "source": [
    "# Chemin du répertoire contenant les fichiers CSV\n",
    "csv_directory = 'C:/Users/Christian/Desktop/PA/Dataset/preprocessing/'\n",
    "\n",
    "# Liste des fichiers CSV dans le répertoire\n",
    "csv_files = [os.path.join(csv_directory, f) for f in os.listdir(csv_directory) if f.endswith('.csv')]"
   ]
  },
  {
   "cell_type": "code",
   "execution_count": 8,
   "metadata": {},
   "outputs": [],
   "source": [
    "columns_to_keep = [\n",
    "    'id_mutation', 'date_mutation', 'nature_mutation', 'valeur_fonciere', 'adresse_numero',\n",
    "    'adresse_suffixe', 'adresse_code_voie', 'adresse_nom_voie', 'code_postal',\n",
    "    'code_commune', 'nom_commune', 'code_departement', 'type_local', 'surface_reelle_bati', 'surface_terrain',\n",
    "    'longitude', 'latitude', 'nombre_lots'\n",
    "]"
   ]
  },
  {
   "cell_type": "code",
   "execution_count": 9,
   "metadata": {},
   "outputs": [],
   "source": [
    "# Conditions de filtrage\n",
    "mutation_types = ['Vente', \"Vente en l'état futur d'achèvement\"]"
   ]
  },
  {
   "cell_type": "code",
   "execution_count": 10,
   "metadata": {},
   "outputs": [],
   "source": [
    "df_list = []"
   ]
  },
  {
   "cell_type": "code",
   "execution_count": 11,
   "metadata": {},
   "outputs": [
    {
     "name": "stderr",
     "output_type": "stream",
     "text": [
      "C:\\Users\\Christian\\AppData\\Local\\Temp\\ipykernel_12792\\641554745.py:2: DtypeWarning: Columns (14,16,17,18,20,22,35,36) have mixed types. Specify dtype option on import or set low_memory=False.\n",
      "  df = pd.read_csv(file, dtype={'code_postal': str, 'code_commune': str, 'code_departement': str}, delimiter=',')\n",
      "C:\\Users\\Christian\\AppData\\Local\\Temp\\ipykernel_12792\\641554745.py:2: DtypeWarning: Columns (14,17,18,20,22,24,35,36) have mixed types. Specify dtype option on import or set low_memory=False.\n",
      "  df = pd.read_csv(file, dtype={'code_postal': str, 'code_commune': str, 'code_departement': str}, delimiter=',')\n",
      "C:\\Users\\Christian\\AppData\\Local\\Temp\\ipykernel_12792\\641554745.py:2: DtypeWarning: Columns (14,16,17,18,20,22,35,36) have mixed types. Specify dtype option on import or set low_memory=False.\n",
      "  df = pd.read_csv(file, dtype={'code_postal': str, 'code_commune': str, 'code_departement': str}, delimiter=',')\n",
      "C:\\Users\\Christian\\AppData\\Local\\Temp\\ipykernel_12792\\641554745.py:2: DtypeWarning: Columns (8,14,16,17,18,20,22,26,35,36) have mixed types. Specify dtype option on import or set low_memory=False.\n",
      "  df = pd.read_csv(file, dtype={'code_postal': str, 'code_commune': str, 'code_departement': str}, delimiter=',')\n"
     ]
    }
   ],
   "source": [
    "for file in csv_files:\n",
    "    df = pd.read_csv(file, dtype={'code_postal': str, 'code_commune': str, 'code_departement': str}, delimiter=',')\n",
    "    \n",
    "    df = df[columns_to_keep]\n",
    "\n",
    "    df = df[df['nature_mutation'].isin(mutation_types)]\n",
    "    \n",
    "    if 'nombre_lots' in df.columns:\n",
    "        df = df[(df['nombre_lots'] <= 1) | (df['nombre_lots'].isnull())]\n",
    "    \n",
    "    df = df[(df['surface_reelle_bati'].notnull()) & (df['surface_reelle_bati'] > 0)]\n",
    "    df = df[(df['valeur_fonciere'].notnull()) & (df['valeur_fonciere'] > 0)]\n",
    "    \n",
    "    df_list.append(df)"
   ]
  },
  {
   "cell_type": "code",
   "execution_count": 12,
   "metadata": {},
   "outputs": [],
   "source": [
    "final_df = pd.concat(df_list, ignore_index=True)\n",
    "\n",
    "# Sauvegarde du DataFrame final dans un nouveau fichier CSV\n",
    "final_df.to_csv('C:/Users/Christian/Desktop/PA/Dataset/valeurs_foncieres.csv', index=False, sep=';')"
   ]
  },
  {
   "cell_type": "markdown",
   "metadata": {},
   "source": [
    "# Filtre pour exclure les régions d'Outre Mer & les Type d'habitation qui sont des Locals"
   ]
  },
  {
   "cell_type": "code",
   "execution_count": 13,
   "metadata": {},
   "outputs": [],
   "source": [
    "final_df['code_departement_numeric'] = pd.to_numeric(final_df['code_departement'], errors='coerce')"
   ]
  },
  {
   "cell_type": "code",
   "execution_count": 14,
   "metadata": {},
   "outputs": [],
   "source": [
    "df_filtered = final_df[final_df['code_departement_numeric'] <= 95]"
   ]
  },
  {
   "cell_type": "code",
   "execution_count": 15,
   "metadata": {},
   "outputs": [],
   "source": [
    "df_filtered = df_filtered.drop(columns=['code_departement_numeric'])"
   ]
  },
  {
   "cell_type": "code",
   "execution_count": 16,
   "metadata": {},
   "outputs": [],
   "source": [
    "# Supprimer les lignes où 'type_local' est égal à 'Local industriel. commercial ou assimilé'\n",
    "df_filtered = df_filtered[df_filtered['type_local'] != 'Local industriel. commercial ou assimilé']"
   ]
  },
  {
   "cell_type": "code",
   "execution_count": 17,
   "metadata": {},
   "outputs": [],
   "source": [
    "df_filtered.to_csv('C:/Users/Christian/Desktop/PA/Dataset/valeurs_foncieres.csv', index=False, sep=';')"
   ]
  },
  {
   "cell_type": "markdown",
   "metadata": {},
   "source": [
    "# Filtrer le DataFrame pour ne garder que les lignes avec des 'id_mutation' uniques"
   ]
  },
  {
   "cell_type": "code",
   "execution_count": 21,
   "metadata": {},
   "outputs": [],
   "source": [
    "duplicate_ids = df_filtered['id_mutation'].value_counts()\n",
    "duplicate_ids = duplicate_ids[duplicate_ids > 1].index"
   ]
  },
  {
   "cell_type": "code",
   "execution_count": 22,
   "metadata": {},
   "outputs": [],
   "source": [
    "df_unique = df_filtered[~df_filtered['id_mutation'].isin(duplicate_ids)]"
   ]
  },
  {
   "cell_type": "code",
   "execution_count": 24,
   "metadata": {},
   "outputs": [],
   "source": [
    "df_unique.to_csv('C:/Users/Christian/Desktop/PA/Dataset/valeurs_foncieres.csv', index=False, sep=';')"
   ]
  },
  {
   "cell_type": "markdown",
   "metadata": {},
   "source": [
    "# Concatenation avec fichier departement-region"
   ]
  },
  {
   "cell_type": "code",
   "execution_count": 25,
   "metadata": {},
   "outputs": [],
   "source": [
    "region_csv = 'C:/Users/Christian/Desktop/PA/Dataset/departements_regions/departements-region.csv'"
   ]
  },
  {
   "cell_type": "code",
   "execution_count": 26,
   "metadata": {},
   "outputs": [],
   "source": [
    "region_mapping = pd.read_csv(region_csv)"
   ]
  },
  {
   "cell_type": "code",
   "execution_count": 27,
   "metadata": {},
   "outputs": [
    {
     "name": "stdout",
     "output_type": "stream",
     "text": [
      "   num_dep                 dep_name                 region_name\n",
      "0       01                      Ain        Auvergne-Rhône-Alpes\n",
      "1       02                    Aisne             Hauts-de-France\n",
      "2       03                   Allier        Auvergne-Rhône-Alpes\n",
      "3       04  Alpes-de-Haute-Provence  Provence-Alpes-Côte d'Azur\n",
      "4       05             Hautes-Alpes  Provence-Alpes-Côte d'Azur\n",
      "..     ...                      ...                         ...\n",
      "91      91                  Essonne               Île-de-France\n",
      "92      92           Hauts-de-Seine               Île-de-France\n",
      "93      93        Seine-Saint-Denis               Île-de-France\n",
      "94      94             Val-de-Marne               Île-de-France\n",
      "95      95               Val-d'Oise               Île-de-France\n",
      "\n",
      "[96 rows x 3 columns]\n"
     ]
    }
   ],
   "source": [
    "print(region_mapping)"
   ]
  },
  {
   "cell_type": "code",
   "execution_count": 28,
   "metadata": {},
   "outputs": [],
   "source": [
    "df_unique = df_unique.merge(region_mapping, how='left', left_on='code_departement', right_on='num_dep')"
   ]
  },
  {
   "cell_type": "code",
   "execution_count": 30,
   "metadata": {},
   "outputs": [],
   "source": [
    "df_unique.to_csv('C:/Users/Christian/Desktop/PA/Dataset/valeurs_foncieres_with_regions.csv', index=False, sep=';')"
   ]
  }
 ],
 "metadata": {
  "kernelspec": {
   "display_name": "ESGI_Conda",
   "language": "python",
   "name": "python3"
  },
  "language_info": {
   "codemirror_mode": {
    "name": "ipython",
    "version": 3
   },
   "file_extension": ".py",
   "mimetype": "text/x-python",
   "name": "python",
   "nbconvert_exporter": "python",
   "pygments_lexer": "ipython3",
   "version": "3.11.5"
  }
 },
 "nbformat": 4,
 "nbformat_minor": 2
}
